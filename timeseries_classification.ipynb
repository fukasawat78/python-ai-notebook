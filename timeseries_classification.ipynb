{
 "cells": [
  {
   "cell_type": "markdown",
   "id": "38e2d2ff-457a-421a-bbc2-b4d31a95bc1f",
   "metadata": {},
   "source": [
    "# Human activity recognition with smartphone\n",
    "---"
   ]
  },
  {
   "cell_type": "markdown",
   "id": "4252b468-5601-478e-bb06-1f968e17020a",
   "metadata": {},
   "source": [
    "## Setup & Imports"
   ]
  },
  {
   "cell_type": "code",
   "execution_count": 1,
   "id": "12a243c0-a595-4e58-afce-3e35097c8b8c",
   "metadata": {},
   "outputs": [
    {
     "ename": "ModuleNotFoundError",
     "evalue": "No module named 'tsfresh'",
     "output_type": "error",
     "traceback": [
      "\u001b[0;31m---------------------------------------------------------------------------\u001b[0m",
      "\u001b[0;31mModuleNotFoundError\u001b[0m                       Traceback (most recent call last)",
      "Input \u001b[0;32mIn [1]\u001b[0m, in \u001b[0;36m<module>\u001b[0;34m\u001b[0m\n\u001b[1;32m      7\u001b[0m sns\u001b[38;5;241m.\u001b[39mset()\n\u001b[1;32m      8\u001b[0m get_ipython()\u001b[38;5;241m.\u001b[39mrun_line_magic(\u001b[38;5;124m'\u001b[39m\u001b[38;5;124mconfig\u001b[39m\u001b[38;5;124m'\u001b[39m, \u001b[38;5;124m\"\u001b[39m\u001b[38;5;124mInlineBackend.figure_format = \u001b[39m\u001b[38;5;124m'\u001b[39m\u001b[38;5;124mretina\u001b[39m\u001b[38;5;124m'\u001b[39m\u001b[38;5;124m\"\u001b[39m)\n\u001b[0;32m---> 10\u001b[0m \u001b[38;5;28;01mfrom\u001b[39;00m \u001b[38;5;21;01mtsfresh\u001b[39;00m \u001b[38;5;28;01mimport\u001b[39;00m extract_features, extract_relevant_features, select_features\n\u001b[1;32m     11\u001b[0m \u001b[38;5;28;01mfrom\u001b[39;00m \u001b[38;5;21;01mtsfresh\u001b[39;00m\u001b[38;5;21;01m.\u001b[39;00m\u001b[38;5;21;01mutilities\u001b[39;00m\u001b[38;5;21;01m.\u001b[39;00m\u001b[38;5;21;01mdataframe_functions\u001b[39;00m \u001b[38;5;28;01mimport\u001b[39;00m impute\n\u001b[1;32m     12\u001b[0m \u001b[38;5;28;01mfrom\u001b[39;00m \u001b[38;5;21;01mtsfresh\u001b[39;00m\u001b[38;5;21;01m.\u001b[39;00m\u001b[38;5;21;01mfeature_extraction\u001b[39;00m \u001b[38;5;28;01mimport\u001b[39;00m ComprehensiveFCParameters\n",
      "\u001b[0;31mModuleNotFoundError\u001b[0m: No module named 'tsfresh'"
     ]
    }
   ],
   "source": [
    "import numpy as np\n",
    "import pandas as pd\n",
    "\n",
    "import matplotlib.pyplot as plt\n",
    "%matplotlib inline\n",
    "import seaborn as sns\n",
    "sns.set()\n",
    "%config InlineBackend.figure_format = 'retina'\n",
    "\n",
    "from tsfresh import extract_features, extract_relevant_features, select_features\n",
    "from tsfresh.utilities.dataframe_functions import impute\n",
    "from tsfresh.feature_extraction import ComprehensiveFCParameters\n",
    "\n",
    "from sklearn.tree import DecisionTreeClassifier\n",
    "from sklearn.model_selection import train_test_split\n",
    "from sklearn.metrics import classification_report\n",
    "\n",
    "np.set_printoptions(threshold=np.inf)\n",
    "pd.set_option('display.max_columns', 500)\n",
    "pd.set_option('display.max_rows', 500)"
   ]
  },
  {
   "cell_type": "markdown",
   "id": "24c8dfd7-1ecf-472b-9a86-a657b39168c3",
   "metadata": {},
   "source": [
    "## Data"
   ]
  },
  {
   "cell_type": "code",
   "execution_count": null,
   "id": "fb419951-e729-48e5-bd7a-b2b4e8eab7b4",
   "metadata": {},
   "outputs": [],
   "source": [
    "DATASET_PATH = './dataset/human_activity_recognition_with_smartphone'\n",
    "\n",
    "#load and look at the data\n",
    "train = pd.read_csv(DATASET_PATH + '/train.csv')\n",
    "test = pd.read_csv(DATASET_PATH + '/test.csv')\n",
    "\n",
    "print(train.shape)\n",
    "\n",
    "train.head()"
   ]
  },
  {
   "cell_type": "markdown",
   "id": "4ad8c5f1-5be3-415c-9496-473453ed12bc",
   "metadata": {},
   "source": [
    "## Feature engineering"
   ]
  },
  {
   "cell_type": "code",
   "execution_count": 4,
   "id": "cc742f16-7b82-4509-8b03-9c92f837cc2d",
   "metadata": {},
   "outputs": [],
   "source": [
    "X_train, y_train = train.drop(columns=\"Activity\"), train[\"Activity\"]\n",
    "X_test, y_test = test.drop(columns=\"Activity\"), test[\"Activity\"]"
   ]
  },
  {
   "cell_type": "code",
   "execution_count": 5,
   "id": "0dbd1e3f-8e53-491c-8a15-623a213ae19a",
   "metadata": {},
   "outputs": [
    {
     "data": {
      "text/plain": [
       "\"\\nextraction_settings = ComprehensiveFCParameters()\\n\\ntrain_ = extract_features(train, column_id='Activity', column_sort='subject',\\n                     default_fc_parameters=extraction_settings,\\n                     # we impute = remove all NaN features automatically\\n                     impute_function=impute)\\n\""
      ]
     },
     "execution_count": 5,
     "metadata": {},
     "output_type": "execute_result"
    }
   ],
   "source": [
    "\"\"\"\n",
    "extraction_settings = ComprehensiveFCParameters()\n",
    "\n",
    "train_ = extract_features(train, column_id='Activity', column_sort='subject',\n",
    "                     default_fc_parameters=extraction_settings,\n",
    "                     # we impute = remove all NaN features automatically\n",
    "                     impute_function=impute)\n",
    "\"\"\""
   ]
  },
  {
   "cell_type": "code",
   "execution_count": 6,
   "id": "438aa295-3376-43da-b9ea-174f5e1ebf3e",
   "metadata": {},
   "outputs": [],
   "source": [
    "X_filtered = select_features(X_train, y_train)"
   ]
  },
  {
   "cell_type": "code",
   "execution_count": 7,
   "id": "6ac8e2b4-809f-48a0-9307-cdd4d4ff10f8",
   "metadata": {},
   "outputs": [],
   "source": [
    "X_full_train, X_full_test, y_train, y_test = train_test_split(X_train, y_train, test_size=.4)\n",
    "X_filtered_train, X_filtered_test = X_full_train[X_filtered.columns], X_full_test[X_filtered.columns]"
   ]
  },
  {
   "cell_type": "code",
   "execution_count": 9,
   "id": "cda14038-3585-4982-943c-46687376ca66",
   "metadata": {},
   "outputs": [
    {
     "name": "stdout",
     "output_type": "stream",
     "text": [
      "                    precision    recall  f1-score   support\n",
      "\n",
      "            LAYING       1.00      1.00      1.00       554\n",
      "           SITTING       0.91      0.92      0.92       523\n",
      "          STANDING       0.92      0.91      0.92       528\n",
      "           WALKING       0.95      0.94      0.95       507\n",
      "WALKING_DOWNSTAIRS       0.92      0.94      0.93       396\n",
      "  WALKING_UPSTAIRS       0.90      0.90      0.90       433\n",
      "\n",
      "          accuracy                           0.94      2941\n",
      "         macro avg       0.93      0.94      0.93      2941\n",
      "      weighted avg       0.94      0.94      0.94      2941\n",
      "\n"
     ]
    }
   ],
   "source": [
    "classifier_full = DecisionTreeClassifier()\n",
    "classifier_full.fit(X_full_train, y_train.values)\n",
    "print(classification_report(y_test, classifier_full.predict(X_full_test)))"
   ]
  },
  {
   "cell_type": "code",
   "execution_count": 10,
   "id": "2fa36b56-0ee7-426b-a9d7-334485531b23",
   "metadata": {},
   "outputs": [
    {
     "name": "stdout",
     "output_type": "stream",
     "text": [
      "                    precision    recall  f1-score   support\n",
      "\n",
      "            LAYING       1.00      1.00      1.00       554\n",
      "           SITTING       0.93      0.92      0.93       523\n",
      "          STANDING       0.92      0.93      0.93       528\n",
      "           WALKING       0.94      0.94      0.94       507\n",
      "WALKING_DOWNSTAIRS       0.91      0.94      0.93       396\n",
      "  WALKING_UPSTAIRS       0.92      0.90      0.91       433\n",
      "\n",
      "          accuracy                           0.94      2941\n",
      "         macro avg       0.94      0.94      0.94      2941\n",
      "      weighted avg       0.94      0.94      0.94      2941\n",
      "\n"
     ]
    }
   ],
   "source": [
    "classifier_filtered = DecisionTreeClassifier()\n",
    "classifier_filtered.fit(X_filtered_train, y_train)\n",
    "print(classification_report(y_test, classifier_filtered.predict(X_filtered_test)))"
   ]
  },
  {
   "cell_type": "code",
   "execution_count": null,
   "id": "1ceec712-4c18-4ad0-a0af-e491d73afe03",
   "metadata": {},
   "outputs": [],
   "source": []
  }
 ],
 "metadata": {
  "environment": {
   "kernel": "python3",
   "name": "common-cu110.m87",
   "type": "gcloud",
   "uri": "gcr.io/deeplearning-platform-release/base-cu110:m87"
  },
  "kernelspec": {
   "display_name": "Python 3 (ipykernel)",
   "language": "python",
   "name": "python3"
  },
  "language_info": {
   "codemirror_mode": {
    "name": "ipython",
    "version": 3
   },
   "file_extension": ".py",
   "mimetype": "text/x-python",
   "name": "python",
   "nbconvert_exporter": "python",
   "pygments_lexer": "ipython3",
   "version": "3.8.12"
  }
 },
 "nbformat": 4,
 "nbformat_minor": 5
}
